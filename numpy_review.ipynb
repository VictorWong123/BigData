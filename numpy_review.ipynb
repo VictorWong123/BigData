{
 "cells": [
  {
   "cell_type": "markdown",
   "id": "846bcf80",
   "metadata": {},
   "source": [
    "1. Write a program that creates two numpy arrays: the first should be random integers, the second should be random floats.\n",
    "2. Then use matplotlib to display a scatter chart with the two arrays as axes."
   ]
  },
  {
   "cell_type": "code",
   "execution_count": 10,
   "id": "1aa3b0e0",
   "metadata": {},
   "outputs": [],
   "source": [
    "import numpy as np\n",
    "import matplotlib.pyplot as plt\n",
    "\n",
    "arr_1 = np.random.randint(10,size=10)\n",
    "arr_2 = np.random.random(size=10)"
   ]
  },
  {
   "cell_type": "code",
   "execution_count": 11,
   "id": "6a5d167b",
   "metadata": {},
   "outputs": [
    {
     "data": {
      "text/plain": [
       "array([0.92906716, 0.03223274, 0.16051672, 0.17662685, 0.6440386 ,\n",
       "       0.86221173, 0.34199171, 0.19573066, 0.54855014, 0.98108611])"
      ]
     },
     "execution_count": 11,
     "metadata": {},
     "output_type": "execute_result"
    }
   ],
   "source": [
    "arr_2"
   ]
  },
  {
   "cell_type": "code",
   "execution_count": 7,
   "id": "67573c84",
   "metadata": {},
   "outputs": [
    {
     "data": {
      "text/plain": [
       "array([9, 2, 7, 1, 3, 1, 3, 0, 4, 6])"
      ]
     },
     "execution_count": 7,
     "metadata": {},
     "output_type": "execute_result"
    }
   ],
   "source": [
    "arr_1"
   ]
  },
  {
   "cell_type": "code",
   "execution_count": 12,
   "id": "587f265f",
   "metadata": {},
   "outputs": [
    {
     "data": {
      "text/plain": [
       "<matplotlib.collections.PathCollection at 0x7fe2093a1f10>"
      ]
     },
     "execution_count": 12,
     "metadata": {},
     "output_type": "execute_result"
    },
    {
     "data": {
      "image/png": "[encoded data removed]",
      "text/plain": [
       "<Figure size 432x288 with 1 Axes>"
      ]
     },
     "metadata": {
      "needs_background": "light"
     },
     "output_type": "display_data"
    }
   ],
   "source": [
    "plt.scatter(x=arr_1,y=arr_2)"
   ]
  }
 ],
 "metadata": {
  "kernelspec": {
   "display_name": "Python 3 (ipykernel)",
   "language": "python",
   "name": "python3"
  },
  "language_info": {
   "codemirror_mode": {
    "name": "ipython",
    "version": 3
   },
   "file_extension": ".py",
   "mimetype": "text/x-python",
   "name": "python",
   "nbconvert_exporter": "python",
   "pygments_lexer": "ipython3",
   "version": "3.9.5"
  }
 },
 "nbformat": 4,
 "nbformat_minor": 5
}
