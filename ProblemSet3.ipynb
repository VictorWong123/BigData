{
 "cells": [
  {
   "cell_type": "markdown",
   "id": "e526f569",
   "metadata": {},
   "source": [
    "### Fuel gauges indicate, often with fractions, just how much fuel is in a tank. For instance 1/4 indicates that a tank is 25% full, 1/2 indicates that a tank is 50% full, and 3/4 indicates that a tank is 75% full.\n",
    "\n",
    "In a file called fuel.py, implement a program that prompts the user for a fraction, formatted as X/Y, wherein each of X and Y is an integer, and then outputs, as a percentage rounded to the nearest integer, how much fuel is in the tank. If, though, 1% or less remains, output E instead to indicate that the tank is essentially empty. And if 99% or more remains, output F instead to indicate that the tank is essentially full.\n",
    "\n",
    "If, though, X or Y is not an integer, X is greater than Y, or Y is 0, instead prompt the user again. (It is not necessary for Y to be 4.) Be sure to catch any exceptions like"
   ]
  },
  {
   "cell_type": "code",
   "execution_count": 10,
   "id": "7d10d8b4",
   "metadata": {},
   "outputs": [
    {
     "name": "stdout",
     "output_type": "stream",
     "text": [
      "How much percent is the tank full by (x/y)? dog/car\n",
      "Please put in a number\n",
      "something else went wrong\n"
     ]
    }
   ],
   "source": [
    "fuel = input(\"How much percent is the tank full by (x/y)? \")\n",
    "ls = fuel.split(\"/\")\n",
    "new_ls = []\n",
    "for i in ls:\n",
    "    try: \n",
    "        i = int(i)\n",
    "    except ValueError:\n",
    "        print(\"Please put in a number\") \n",
    "        break\n",
    "    new_ls.append(i)\n",
    "try:\n",
    "    print(f\"Fuel Percent: {round(new_ls[0]/new_ls[1]*100, 2)}%\")\n",
    "except ZeroDivisionError: \n",
    "    print(\"divided by 0\")\n",
    "except ValueError:\n",
    "    pass\n",
    "except: \n",
    "    print(\"something else went wrong\")\n",
    "    \n"
   ]
  },
  {
   "cell_type": "markdown",
   "id": "c0dd8cfd",
   "metadata": {},
   "source": [
    "### In a file called taqueria.py, implement a program that enables a user to place an order, prompting them for items, one per line, until the user inputs control-d (which is a common way of ending one’s input to a program). After each inputted item, display the total cost of all items inputted thus far, prefixed with a dollar sign ($) and formatted to two decimal places. Treat the user’s input case insensitively. Ignore any input that isn’t an item. Assume that every item on the menu will be titlecased."
   ]
  },
  {
   "cell_type": "code",
   "execution_count": 5,
   "id": "e9e8cd85",
   "metadata": {},
   "outputs": [
    {
     "name": "stdout",
     "output_type": "stream",
     "text": [
      "type 'exit' to break out.\n",
      "Item: nacho\n",
      "Item: taco\n",
      "Total: 3.0\n"
     ]
    },
    {
     "ename": "KeyboardInterrupt",
     "evalue": "Interrupted by user",
     "output_type": "error",
     "traceback": [
      "\u001b[0;31m---------------------------------------------------------------------------\u001b[0m",
      "\u001b[0;31mKeyboardInterrupt\u001b[0m                         Traceback (most recent call last)",
      "\u001b[0;32m/var/folders/gk/0s99l12j0bd5_lr6v87jg8p00000gn/T/ipykernel_37310/3042275844.py\u001b[0m in \u001b[0;36m<module>\u001b[0;34m\u001b[0m\n\u001b[1;32m     13\u001b[0m \u001b[0mprint\u001b[0m\u001b[0;34m(\u001b[0m\u001b[0;34m\"type 'exit' to break out.\"\u001b[0m\u001b[0;34m)\u001b[0m\u001b[0;34m\u001b[0m\u001b[0;34m\u001b[0m\u001b[0m\n\u001b[1;32m     14\u001b[0m \u001b[0;32mwhile\u001b[0m \u001b[0;32mTrue\u001b[0m\u001b[0;34m:\u001b[0m\u001b[0;34m\u001b[0m\u001b[0;34m\u001b[0m\u001b[0m\n\u001b[0;32m---> 15\u001b[0;31m     \u001b[0morder\u001b[0m \u001b[0;34m=\u001b[0m \u001b[0minput\u001b[0m\u001b[0;34m(\u001b[0m\u001b[0;34m\"Item: \"\u001b[0m\u001b[0;34m)\u001b[0m\u001b[0;34m\u001b[0m\u001b[0;34m\u001b[0m\u001b[0m\n\u001b[0m\u001b[1;32m     16\u001b[0m     \u001b[0;32mif\u001b[0m \u001b[0morder\u001b[0m \u001b[0;34m==\u001b[0m\u001b[0;34m'exit'\u001b[0m\u001b[0;34m:\u001b[0m\u001b[0;34m\u001b[0m\u001b[0;34m\u001b[0m\u001b[0m\n\u001b[1;32m     17\u001b[0m         \u001b[0;32mbreak\u001b[0m\u001b[0;34m\u001b[0m\u001b[0;34m\u001b[0m\u001b[0m\n",
      "\u001b[0;32m~/opt/miniconda3/lib/python3.9/site-packages/ipykernel/kernelbase.py\u001b[0m in \u001b[0;36mraw_input\u001b[0;34m(self, prompt)\u001b[0m\n\u001b[1;32m   1004\u001b[0m                 \u001b[0;34m\"raw_input was called, but this frontend does not support input requests.\"\u001b[0m\u001b[0;34m\u001b[0m\u001b[0;34m\u001b[0m\u001b[0m\n\u001b[1;32m   1005\u001b[0m             )\n\u001b[0;32m-> 1006\u001b[0;31m         return self._input_request(\n\u001b[0m\u001b[1;32m   1007\u001b[0m             \u001b[0mstr\u001b[0m\u001b[0;34m(\u001b[0m\u001b[0mprompt\u001b[0m\u001b[0;34m)\u001b[0m\u001b[0;34m,\u001b[0m\u001b[0;34m\u001b[0m\u001b[0;34m\u001b[0m\u001b[0m\n\u001b[1;32m   1008\u001b[0m             \u001b[0mself\u001b[0m\u001b[0;34m.\u001b[0m\u001b[0m_parent_ident\u001b[0m\u001b[0;34m[\u001b[0m\u001b[0;34m\"shell\"\u001b[0m\u001b[0;34m]\u001b[0m\u001b[0;34m,\u001b[0m\u001b[0;34m\u001b[0m\u001b[0;34m\u001b[0m\u001b[0m\n",
      "\u001b[0;32m~/opt/miniconda3/lib/python3.9/site-packages/ipykernel/kernelbase.py\u001b[0m in \u001b[0;36m_input_request\u001b[0;34m(self, prompt, ident, parent, password)\u001b[0m\n\u001b[1;32m   1049\u001b[0m             \u001b[0;32mexcept\u001b[0m \u001b[0mKeyboardInterrupt\u001b[0m\u001b[0;34m:\u001b[0m\u001b[0;34m\u001b[0m\u001b[0;34m\u001b[0m\u001b[0m\n\u001b[1;32m   1050\u001b[0m                 \u001b[0;31m# re-raise KeyboardInterrupt, to truncate traceback\u001b[0m\u001b[0;34m\u001b[0m\u001b[0;34m\u001b[0m\u001b[0;34m\u001b[0m\u001b[0m\n\u001b[0;32m-> 1051\u001b[0;31m                 \u001b[0;32mraise\u001b[0m \u001b[0mKeyboardInterrupt\u001b[0m\u001b[0;34m(\u001b[0m\u001b[0;34m\"Interrupted by user\"\u001b[0m\u001b[0;34m)\u001b[0m \u001b[0;32mfrom\u001b[0m \u001b[0;32mNone\u001b[0m\u001b[0;34m\u001b[0m\u001b[0;34m\u001b[0m\u001b[0m\n\u001b[0m\u001b[1;32m   1052\u001b[0m             \u001b[0;32mexcept\u001b[0m \u001b[0mException\u001b[0m\u001b[0;34m:\u001b[0m\u001b[0;34m\u001b[0m\u001b[0;34m\u001b[0m\u001b[0m\n\u001b[1;32m   1053\u001b[0m                 \u001b[0mself\u001b[0m\u001b[0;34m.\u001b[0m\u001b[0mlog\u001b[0m\u001b[0;34m.\u001b[0m\u001b[0mwarning\u001b[0m\u001b[0;34m(\u001b[0m\u001b[0;34m\"Invalid Message:\"\u001b[0m\u001b[0;34m,\u001b[0m \u001b[0mexc_info\u001b[0m\u001b[0;34m=\u001b[0m\u001b[0;32mTrue\u001b[0m\u001b[0;34m)\u001b[0m\u001b[0;34m\u001b[0m\u001b[0;34m\u001b[0m\u001b[0m\n",
      "\u001b[0;31mKeyboardInterrupt\u001b[0m: Interrupted by user"
     ]
    }
   ],
   "source": [
    "menu = {\n",
    "    \"Baja Taco\": 4.25,\n",
    "    \"Burrito\": 7.50,\n",
    "    \"Bowl\": 8.50,\n",
    "    \"Nachos\": 11.00,\n",
    "    \"Quesadilla\": 8.50,\n",
    "    \"Super Burrito\": 8.50,\n",
    "    \"Super Quesadilla\": 9.50,\n",
    "    \"Taco\": 3.00,\n",
    "    \"Tortilla Salad\": 8.00\n",
    "}\n",
    "total = float(0.00)\n",
    "print(\"type 'exit' to break out.\")\n",
    "while True: \n",
    "    order = input(\"Item: \")\n",
    "    if order =='exit':\n",
    "        break\n",
    "\n",
    "    for key, value in menu.items(): \n",
    "        if order.casefold() == key.casefold():\n",
    "            total += float(value)\n",
    "            print(f'Total: {total}')\n",
    "\n",
    "    \n",
    "print(f'Your total is ${total}')\n"
   ]
  },
  {
   "cell_type": "code",
   "execution_count": 4,
   "id": "ee2e35fe",
   "metadata": {},
   "outputs": [
    {
     "name": "stdout",
     "output_type": "stream",
     "text": [
      "1.1\n"
     ]
    }
   ],
   "source": [
    "num = 0.00\n",
    "num_2 = 1.10\n",
    "print(round(num + num_2,2))"
   ]
  },
  {
   "cell_type": "code",
   "execution_count": null,
   "id": "9ac75564",
   "metadata": {},
   "outputs": [],
   "source": []
  },
  {
   "cell_type": "markdown",
   "id": "b0895660",
   "metadata": {},
   "source": [
    "### Suppose that you’re in the habit of making a list of items you need from the grocery store.\n",
    "\n",
    "In a file called grocery.py, implement a program that prompts the user for items, one per line, until the user inputs control-d (which is a common way of ending one’s input to a program). Then output the user’s grocery list in all uppercase, sorted alphabetically by item, prefixing each line with the number of times the user inputted that item. No need to pluralize the items. Treat the user’s input case-insensitively."
   ]
  },
  {
   "cell_type": "code",
   "execution_count": 34,
   "id": "25bc1f06",
   "metadata": {},
   "outputs": [
    {
     "name": "stdout",
     "output_type": "stream",
     "text": [
      "Add an item to your groccery list: \n",
      " enter 'exit' to quit program ban\n",
      "Add an item to your groccery list: \n",
      " enter 'exit' to quit program apple\n",
      "Add an item to your groccery list: \n",
      " enter 'exit' to quit program exit\n",
      "APPLE: 1\n",
      "BAN: 1\n"
     ]
    }
   ],
   "source": [
    "groc_list = []\n",
    "while True:\n",
    "    item = input(\"Add an item to your groccery list: \\n enter 'exit' to quit program \")\n",
    "    if item == 'exit':\n",
    "        break\n",
    "    groc_list.append(item.upper())\n",
    "# except EOFError: This doesn't work in jupyter but will in VS\n",
    "\n",
    "groc_list.sort()\n",
    "    \n",
    "dict_of_counts = {item:groc_list.count(item) for item in groc_list}\n",
    "\n",
    "for key, value in dict_of_counts.items():\n",
    "    print(f'{key}: {value}')\n",
    "\n",
    "\n",
    "    "
   ]
  },
  {
   "cell_type": "markdown",
   "id": "0b1f5750",
   "metadata": {},
   "source": [
    "### In a file called outdated.py, implement a program that prompts the user for a date, anno Domini, in month-day-year order, formatted like 9/8/1636 or September 8, 1636, wherein the month in the latter might be any of the values in the list below:\n",
    "\n",
    "Then output that same date in YYYY-MM-DD format. If the user’s input is not a valid date in either format, prompt the user again. Assume that every month has no more than 31 days; no need to validate whether a month has 28, 29, 30, or 31 days."
   ]
  },
  {
   "cell_type": "code",
   "execution_count": 24,
   "id": "f4097473",
   "metadata": {},
   "outputs": [
    {
     "name": "stdout",
     "output_type": "stream",
     "text": [
      "enter a date (MM/DD/YYYY): 13/24/2001\n",
      "Month is invalid. Enter a new date: 12/32/2005\n",
      "Day is invalid. Enter a new date: 12/12/1209\n",
      " Reformatted date: 1209/12/12\n"
     ]
    }
   ],
   "source": [
    "date = input(\"enter a date (MM/DD/YYYY): \")\n",
    "\n",
    "ls = date.split('/')\n",
    "if int(ls[0])> 12:\n",
    "    date = input(\"Month is invalid. Enter a new date: \")\n",
    "    ls = date.split('/')\n",
    "\n",
    "if int(ls[1])>31:\n",
    "    date = input(\"Day is invalid. Enter a new date: \")\n",
    "    ls = date.split('/')\n",
    "\n",
    "\n",
    "print(f\" Reformatted date: {ls[2]}/{ls[1]}/{ls[0]}\")"
   ]
  },
  {
   "cell_type": "markdown",
   "id": "58bbd3b9",
   "metadata": {},
   "source": [
    "# problem set 4"
   ]
  },
  {
   "cell_type": "markdown",
   "id": "45b3ba17",
   "metadata": {},
   "source": [
    "### In a file called emojize.py, implement a program that prompts the user for a str in English and then outputs the “emojized” version of that str, converting any codes (or aliases) therein to their corresponding emoji."
   ]
  },
  {
   "cell_type": "code",
   "execution_count": 38,
   "id": "b63bd7a6",
   "metadata": {},
   "outputs": [
    {
     "name": "stdout",
     "output_type": "stream",
     "text": [
      "Enter a string in English: :1st_place_medal:\n",
      "Emojized version: 🥇\n"
     ]
    }
   ],
   "source": [
    "import emojis\n",
    "\n",
    "def emojize_string(input_str):\n",
    "    emojized_str = emojis.encode(input_str)\n",
    "\n",
    "    return emojized_str\n",
    "\n",
    "user_input = input(\"Enter a string in English: \")\n",
    "emojized_result = emojize_string(user_input)\n",
    "print(\"Emojized version:\", emojized_result)\n",
    "\n"
   ]
  }
 ],
 "metadata": {
  "kernelspec": {
   "display_name": "Python 3.9.6 64-bit",
   "language": "python",
   "name": "python3"
  },
  "language_info": {
   "codemirror_mode": {
    "name": "ipython",
    "version": 3
   },
   "file_extension": ".py",
   "mimetype": "text/x-python",
   "name": "python",
   "nbconvert_exporter": "python",
   "pygments_lexer": "ipython3",
   "version": "3.9.6"
  },
  "vscode": {
   "interpreter": {
    "hash": "31f2aee4e71d21fbe5cf8b01ff0e069b9275f58929596ceb00d14d90e3e16cd6"
   }
  }
 },
 "nbformat": 4,
 "nbformat_minor": 5
}
