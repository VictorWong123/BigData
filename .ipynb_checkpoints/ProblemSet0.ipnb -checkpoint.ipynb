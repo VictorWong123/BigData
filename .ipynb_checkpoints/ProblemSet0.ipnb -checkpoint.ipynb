{
 "cells": [
  {
   "cell_type": "markdown",
   "id": "3283bee2",
   "metadata": {},
   "source": [
    "### Best to use your “indoor voice” sometimes, writing entirely in lowercase.\n",
    "\n",
    "In a file called indoor.py, implement a program in Python that prompts the user for input and then outputs that same input in lowercase. Punctuation and whitespace should be outputted unchanged. You’re welcome, but not required, to prompt the user explicitly, as by passing a str of your own as an argument to input.\n"
   ]
  },
  {
   "cell_type": "code",
   "execution_count": 1,
   "id": "8e0074ee",
   "metadata": {},
   "outputs": [
    {
     "name": "stdout",
     "output_type": "stream",
     "text": [
      "Enter a word: CAPS\n",
      "caps\n"
     ]
    }
   ],
   "source": [
    "word = input(\"Enter a word: \")\n",
    "\n",
    "print(word.lower())"
   ]
  },
  {
   "cell_type": "markdown",
   "id": "19ede35c",
   "metadata": {},
   "source": [
    "### Some people have a habit of lecturing speaking rather quickly, and it’d be nice to slow them down, a la YouTube’s 0.75 playback speed, or even by having them pause between words.\n",
    "\n",
    "In a file called playback.py, implement a program in Python that prompts the user for input and then outputs that same input, replacing each space with ... (i.e., three periods)."
   ]
  },
  {
   "cell_type": "code",
   "execution_count": 24,
   "id": "ad429db9",
   "metadata": {},
   "outputs": [
    {
     "name": "stdout",
     "output_type": "stream",
     "text": [
      "Enter a sentence: This is a test\n",
      "This...is...a...test\n"
     ]
    }
   ],
   "source": [
    "sentence = input(\"Enter a sentence: \")\n",
    "\n",
    "for i in range(len(sentence)):\n",
    "    if sentence[i] == ' ':\n",
    "        sentence = sentence[:i] + '...' + sentence[i+1:]\n",
    "\n",
    "print(sentence)"
   ]
  },
  {
   "cell_type": "markdown",
   "id": "81ed72f3",
   "metadata": {},
   "source": [
    "### Before there were emoji, there were emoticons, whereby text like :) was a happy face and text like :( was a sad face. Nowadays, programs tend to convert emoticons to emoji automatically!\n",
    "\n",
    "In a file called faces.py, implement a function called convert that accepts a str as input and returns that same input with any :) converted to 🙂 (otherwise known as a slightly smiling face) and any :( converted to 🙁 (otherwise known as a slightly frowning face). All other text should be returned unchanged.\n",
    "\n",
    "Then, in that same file, implement a function called main that prompts the user for input, calls convert on that input, and prints the result. You’re welcome, but not required, to prompt the user explicitly, as by passing a str of your own as an argument to input. Be sure to call main at the bottom of your file.\n",
    "\n"
   ]
  },
  {
   "cell_type": "code",
   "execution_count": 49,
   "id": "e5694ffb",
   "metadata": {},
   "outputs": [
    {
     "name": "stdout",
     "output_type": "stream",
     "text": [
      "test\n"
     ]
    },
    {
     "data": {
      "text/plain": [
       "\"hi I'm 🙂) \""
      ]
     },
     "execution_count": 49,
     "metadata": {},
     "output_type": "execute_result"
    }
   ],
   "source": [
    "def faces(sentence):\n",
    "\n",
    "    for i in range(len(sentence)):\n",
    "        if sentence[i] == ':'and sentence[i+1]=='(':\n",
    "            print('1')\n",
    "            sentence = sentence[:i] + '🙁' + sentence[i+1:]\n",
    "        if sentence[i] == ':' and sentence[i+1]==')':\n",
    "            print('test')\n",
    "            sentence = sentence[:i] + '🙂' + sentence[i+1:]\n",
    "        \n",
    "    return sentence\n",
    "\n",
    "faces(\"hi I'm :) \")\n"
   ]
  },
  {
   "cell_type": "markdown",
   "id": "0dbd4775",
   "metadata": {},
   "source": [
    "### Even if you haven’t studied physics (recently or ever!), you might have heard that \n",
    ", wherein \n",
    " represents energy (measured in Joules), \n",
    " represents mass (measured in kilograms), and \n",
    " represents the speed of light (measured approximately as 300000000 meters per second), per Albert Einstein et al. Essentially, the formula means that mass and energy are equivalent.\n",
    "\n",
    "\n",
    "In a file called einstein.py, implement a program in Python that prompts the user for mass as an integer (in kilograms) and then outputs the equivalent number of Joules as an integer. Assume that the user will input an integer."
   ]
  },
  {
   "cell_type": "code",
   "execution_count": 54,
   "id": "2294f1c8",
   "metadata": {},
   "outputs": [
    {
     "name": "stdout",
     "output_type": "stream",
     "text": [
      "Enter a mass(kg): 3\n",
      "3 300000000\n",
      "270000000000000000\n"
     ]
    }
   ],
   "source": [
    "c = 300000000 \n",
    "m = int(input(\"Enter a mass(kg): \"))\n",
    "e = m*(c**2)\n",
    "print(e)"
   ]
  },
  {
   "cell_type": "markdown",
   "id": "71aecaab",
   "metadata": {},
   "source": [
    "### Well, we’ve written most of a tip calculator for you. Unfortunately, we didn’t have time to implement two functions:\n",
    "\n",
    "dollars_to_float, which should accept a str as input (formatted as $##.##, wherein each # is a decimal digit), remove the leading $, and return the amount as a float. For instance, given $50.00 as input, it should return 50.0.\n",
    "percent_to_float, which should accept a str as input (formatted as ##%, wherein each # is a decimal digit), remove the trailing %, and return the percentage as a float. For instance, given 15% as input, it should return 0.15."
   ]
  },
  {
   "cell_type": "code",
   "execution_count": 55,
   "id": "910be567",
   "metadata": {},
   "outputs": [
    {
     "name": "stdout",
     "output_type": "stream",
     "text": [
      "How much was the meal? 23.23\n",
      "What percentage would you like to tip? 15\n",
      "Leave $348.45\n"
     ]
    }
   ],
   "source": [
    "def main():\n",
    "    dollars = dollars_to_float(input(\"How much was the meal? \"))\n",
    "    percent = percent_to_float(input(\"What percentage would you like to tip? \"))\n",
    "    tip = dollars * percent\n",
    "    print(f\"Leave ${tip:.2f}\")\n",
    "\n",
    "\n",
    "def dollars_to_float(d):\n",
    "    # TODO\n",
    "    d = float(d)\n",
    "    return d \n",
    "\n",
    "\n",
    "def percent_to_float(p):\n",
    "    # TODO\n",
    "    p = float(p)\n",
    "    return(p)\n",
    "\n",
    "\n",
    "main()"
   ]
  },
  {
   "cell_type": "markdown",
   "id": "4a15679d",
   "metadata": {},
   "source": [
    "### In a file called game.py, implement a program that:\n",
    "\n",
    "Prompts the user for a level, \n",
    ". If the user does not input a positive integer, the program should prompt again.\n",
    "Randomly generates an integer between 1 and \n",
    ", inclusive, using the random module.\n",
    "Prompts the user to guess that integer. If the guess is not a positive integer, the program should prompt the user again.\n",
    "If the guess is smaller than that integer, the program should output Too small! and prompt the user again.\n",
    "If the guess is larger than that integer, the program should output Too large! and prompt the user again.\n",
    "If the guess is the same as that integer, the program should output Just right! and exit.\n"
   ]
  },
  {
   "cell_type": "code",
   "execution_count": 70,
   "id": "89ffe853",
   "metadata": {},
   "outputs": [
    {
     "name": "stdout",
     "output_type": "stream",
     "text": [
      "choose a level: 10\n",
      "9\n",
      "Guess the number. You have 10 guesses. 3\n",
      "3 is less than the number\n",
      "Guess the number. You have 9 guesses. 2\n",
      "2 is less than the number\n",
      "Guess the number. You have 8 guesses. 1\n",
      "1 is less than the number\n",
      "Guess the number. You have 7 guesses. 4\n",
      "4 is less than the number\n",
      "Guess the number. You have 6 guesses. 5\n",
      "5 is less than the number\n",
      "Guess the number. You have 5 guesses. 6\n",
      "6 is less than the number\n",
      "Guess the number. You have 4 guesses. 7\n",
      "7 is less than the number\n",
      "Guess the number. You have 3 guesses. 8\n",
      "8 is less than the number\n",
      "Guess the number. You have 2 guesses. 4\n",
      "4 is less than the number\n",
      "Guess the number. You have 1 guesses. 3\n",
      "3 is less than the number\n",
      "you lose.\n"
     ]
    }
   ],
   "source": [
    "import random\n",
    "\n",
    "level = int(input(\"choose a level: \"))\n",
    "while level<0 or level == 0:\n",
    "    level = int(input(\"Cannot pick a number less than or equal to 0. Pick again\"))\n",
    "    \n",
    "number = random.randint(1,level)\n",
    "print(number)\n",
    "\n",
    "num_guesses = 0\n",
    "\n",
    "while num_guesses<10:\n",
    "    guess = int(input(f\"Guess the number. You have {10-num_guesses} guesses. \"))\n",
    "\n",
    "    if guess == number:\n",
    "        print('you guessed the number')\n",
    "        break\n",
    "    elif guess < number:\n",
    "        print(f\"{guess} is less than the number\")\n",
    "    else:\n",
    "        print(f\"{guess} is greater than the number\")\n",
    "    num_guesses +=1\n",
    "    if num_guesses == 10:\n",
    "        print(\"you lose.\")\n",
    "\n",
    "    \n",
    "\n",
    "\n"
   ]
  }
 ],
 "metadata": {
  "kernelspec": {
   "display_name": "Python 3 (ipykernel)",
   "language": "python",
   "name": "python3"
  },
  "language_info": {
   "codemirror_mode": {
    "name": "ipython",
    "version": 3
   },
   "file_extension": ".py",
   "mimetype": "text/x-python",
   "name": "python",
   "nbconvert_exporter": "python",
   "pygments_lexer": "ipython3",
   "version": "3.9.5"
  }
 },
 "nbformat": 4,
 "nbformat_minor": 5
}
